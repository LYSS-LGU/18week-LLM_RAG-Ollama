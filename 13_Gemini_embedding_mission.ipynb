{
 "cells": [
  {
   "cell_type": "markdown",
   "metadata": {},
   "source": [
    "# Gemini API 임베딩 미션 실습\n",
    "\n",
    "Google Gemini API를 사용하여 임베딩 미션을 수행합니다."
   ]
  },
  {
   "cell_type": "markdown",
   "metadata": {},
   "source": [
    "## 1. 환경 설정"
   ]
  },
  {
   "cell_type": "code",
   "execution_count": null,
   "metadata": {},
   "outputs": [],
   "source": [
    "import os\n",
    "import google.generativeai as genai\n",
    "import numpy as np\n",
    "from sklearn.metrics.pairwise import cosine_similarity\n",
    "\n",
    "# Gemini API 키 설정\n",
    "api_key = os.environ.get('GEMINI_API_KEY')\n",
    "if api_key:\n",
    "    print(f\"[OK] API 키 확인: {api_key[:10]}...\")\n",
    "    genai.configure(api_key=api_key)\n",
    "else:\n",
    "    print(\"[ERROR] GEMINI_API_KEY 환경변수가 설정되지 않았습니다.\")"
   ]
  },
  {
   "cell_type": "markdown",
   "metadata": {},
   "source": [
    "## 2. Gemini 임베딩 함수 정의"
   ]
  },
  {
   "cell_type": "code",
   "execution_count": null,
   "metadata": {},
   "outputs": [],
   "source": [
    "def get_gemini_embedding(text, task_type='retrieval_document'):\n",
    "    \"\"\"Gemini API로 텍스트 임베딩 생성\"\"\"\n",
    "    try:\n",
    "        response = genai.embed_content(\n",
    "            model='models/text-embedding-004',\n",
    "            content=text,\n",
    "            task_type=task_type\n",
    "        )\n",
    "        return response['embedding']\n",
    "    except Exception as e:\n",
    "        print(f\"임베딩 오류: {e}\")\n",
    "        return None\n",
    "\n",
    "# 테스트\n",
    "test_result = get_gemini_embedding(\"안녕하세요 테스트입니다\")\n",
    "if test_result:\n",
    "    print(f\"[OK] 임베딩 성공! 차원: {len(test_result)}\")\n",
    "    print(f\"샘플: {test_result[:3]}\")\n",
    "else:\n",
    "    print(\"[ERROR] 임베딩 실패\")"
   ]
  },
  {
   "cell_type": "markdown",
   "metadata": {},
   "source": [
    "## 3. 임베딩 미션 데이터"
   ]
  },
  {
   "cell_type": "code",
   "execution_count": null,
   "metadata": {},
   "outputs": [],
   "source": [
    "# 임베딩 미션 데이터\n",
    "data = [\n",
    "    {\"id\": \"vec1\", \"text\": \"사과는 달콤하고 아삭한 식감으로 유명한 인기 있는 과일입니다.\"},\n",
    "    {\"id\": \"vec2\", \"text\": \"애플이라는 기술 회사는 아이폰과 같은 혁신적인 제품으로 유명합니다.\"},\n",
    "    {\"id\": \"vec3\", \"text\": \"많은 사람들이 건강한 간식으로 사과를 즐겨 먹습니다.\"},\n",
    "    {\"id\": \"vec4\", \"text\": \"애플 주식회사는 세련된 디자인과 사용자 친화적인 인터페이스로 기술 산업을 혁신했습니다.\"},\n",
    "    {\"id\": \"vec5\", \"text\": \"하루에 사과 하나면 의사를 멀리할 수 있다는 속담이 있습니다.\"},\n",
    "    {\"id\": \"vec6\", \"text\": \"애플 컴퓨터 회사는 1976년 4월 1일 스티브 잡스, 스티브 워즈니악, 로널드 웨인에 의해 파트너십으로 설립되었습니다.\"}\n",
    "]\n",
    "\n",
    "print(f\"데이터 개수: {len(data)}\")\n",
    "for item in data:\n",
    "    category = '과일' if '사과' in item['text'] and '애플' not in item['text'] else '기술회사'\n",
    "    print(f\"{item['id']}: [{category}] {item['text'][:40]}...\")"
   ]
  },
  {
   "cell_type": "markdown",
   "metadata": {},
   "source": [
    "## 4. 임베딩 생성"
   ]
  },
  {
   "cell_type": "code",
   "execution_count": null,
   "metadata": {},
   "outputs": [],
   "source": [
    "# 모든 텍스트에 대해 임베딩 생성\n",
    "embeddings = []\n",
    "metadata = []\n",
    "\n",
    "print(\"=== 임베딩 생성 중 ===\")\n",
    "for item in data:\n",
    "    print(f\"{item['id']} 처리중...\", end=\" \")\n",
    "    \n",
    "    embedding = get_gemini_embedding(item['text'])\n",
    "    if embedding:\n",
    "        embeddings.append(embedding)\n",
    "        metadata.append({\n",
    "            'id': item['id'],\n",
    "            'text': item['text'],\n",
    "            'category': '과일' if '사과' in item['text'] and '애플' not in item['text'] else '기술회사'\n",
    "        })\n",
    "        print(f\"완료 (차원: {len(embedding)})\")\n",
    "    else:\n",
    "        print(\"실패\")\n",
    "\n",
    "print(f\"\\n총 {len(embeddings)}개 임베딩 생성 완료!\")\n",
    "if embeddings:\n",
    "    embeddings_array = np.array(embeddings)\n",
    "    print(f\"임베딩 배열 형태: {embeddings_array.shape}\")"
   ]
  },
  {
   "cell_type": "markdown",
   "metadata": {},
   "source": [
    "## 5. 벡터 검색 함수"
   ]
  },
  {
   "cell_type": "code",
   "execution_count": null,
   "metadata": {},
   "outputs": [],
   "source": [
    "def search_similar(query_text, top_k=5, category_filter=None):\n",
    "    \"\"\"쿼리와 유사한 벡터 검색\"\"\"\n",
    "    # 쿼리 임베딩 생성\n",
    "    query_embedding = get_gemini_embedding(query_text, task_type='retrieval_query')\n",
    "    if not query_embedding:\n",
    "        return []\n",
    "    \n",
    "    # 코사인 유사도 계산\n",
    "    query_array = np.array(query_embedding).reshape(1, -1)\n",
    "    similarities = cosine_similarity(query_array, embeddings_array)[0]\n",
    "    \n",
    "    # 결과 생성\n",
    "    results = []\n",
    "    for i, similarity in enumerate(similarities):\n",
    "        item = {\n",
    "            'index': i,\n",
    "            'similarity': float(similarity),\n",
    "            'id': metadata[i]['id'],\n",
    "            'text': metadata[i]['text'],\n",
    "            'category': metadata[i]['category']\n",
    "        }\n",
    "        \n",
    "        # 카테고리 필터링\n",
    "        if category_filter is None or item['category'] == category_filter:\n",
    "            results.append(item)\n",
    "    \n",
    "    # 유사도순 정렬\n",
    "    results.sort(key=lambda x: x['similarity'], reverse=True)\n",
    "    return results[:top_k]\n",
    "\n",
    "print(\"검색 함수 준비 완료!\")"
   ]
  },
  {
   "cell_type": "markdown",
   "metadata": {},
   "source": [
    "## 6. 임베딩 미션: \"애플이라는 기술 회사에 대해 알려주세요.\" 검색"
   ]
  },
  {
   "cell_type": "code",
   "execution_count": null,
   "metadata": {},
   "outputs": [],
   "source": [
    "# 미션 쿼리\n",
    "query = \"애플이라는 기술 회사에 대해 알려주세요.\"\n",
    "print(f\"=== 쿼리: {query} ===\\n\")\n",
    "\n",
    "# 전체 검색\n",
    "results = search_similar(query, top_k=6)\n",
    "\n",
    "print(\"=== 검색 결과 (전체) ===\")\n",
    "for i, result in enumerate(results, 1):\n",
    "    print(f\"{i}. [{result['id']}] 유사도: {result['similarity']:.4f} [{result['category']}]\")\n",
    "    print(f\"   {result['text']}\")\n",
    "    print()"
   ]
  },
  {
   "cell_type": "markdown",
   "metadata": {},
   "source": [
    "## 7. 카테고리별 필터링 검색"
   ]
  },
  {
   "cell_type": "code",
   "execution_count": null,
   "metadata": {},
   "outputs": [],
   "source": [
    "# 기술회사 카테고리만 검색\n",
    "tech_results = search_similar(query, top_k=10, category_filter='기술회사')\n",
    "\n",
    "print(\"=== 기술회사 카테고리 필터링 결과 ===\")\n",
    "for i, result in enumerate(tech_results, 1):\n",
    "    print(f\"{i}. [{result['id']}] 유사도: {result['similarity']:.4f}\")\n",
    "    print(f\"   {result['text']}\")\n",
    "    print()"
   ]
  },
  {
   "cell_type": "markdown",
   "metadata": {},
   "source": [
    "## 8. 다른 쿼리 테스트"
   ]
  },
  {
   "cell_type": "code",
   "execution_count": null,
   "metadata": {},
   "outputs": [],
   "source": [
    "# 과일 관련 쿼리\n",
    "fruit_query = \"건강에 좋은 과일에 대해 알려주세요.\"\n",
    "print(f\"=== 쿼리: {fruit_query} ===\\n\")\n",
    "\n",
    "fruit_results = search_similar(fruit_query, top_k=6)\n",
    "\n",
    "print(\"=== 과일 관련 검색 결과 ===\")\n",
    "for i, result in enumerate(fruit_results, 1):\n",
    "    print(f\"{i}. [{result['id']}] 유사도: {result['similarity']:.4f} [{result['category']}]\")\n",
    "    print(f\"   {result['text']}\")\n",
    "    print()\n",
    "\n",
    "# 과일 카테고리만 필터링\n",
    "fruit_only = search_similar(fruit_query, top_k=10, category_filter='과일')\n",
    "\n",
    "print(\"=== 과일 카테고리 필터링 결과 ===\")\n",
    "for i, result in enumerate(fruit_only, 1):\n",
    "    print(f\"{i}. [{result['id']}] 유사도: {result['similarity']:.4f}\")\n",
    "    print(f\"   {result['text']}\")\n",
    "    print()"
   ]
  },
  {
   "cell_type": "markdown",
   "metadata": {},
   "source": [
    "## 9. 실습 완료 및 결과 분석"
   ]
  },
  {
   "cell_type": "code",
   "execution_count": null,
   "metadata": {},
   "outputs": [],
   "source": [
    "print(\"=== Gemini API 임베딩 미션 완료 ===\")\n",
    "print()\n",
    "print(\"[OK] 사용 기술:\")\n",
    "print(\"  - 임베딩 API: Google Gemini text-embedding-004\")\n",
    "print(\"  - 벡터 검색: 코사인 유사도 (sklearn)\")\n",
    "print(\"  - 저장소: 메모리 기반 (로컬)\")\n",
    "print()\n",
    "\n",
    "if embeddings:\n",
    "    print(\"[OK] 데이터 통계:\")\n",
    "    print(f\"  - 처리된 텍스트: {len(embeddings)}개\")\n",
    "    print(f\"  - 임베딩 차원: {len(embeddings[0])}\")\n",
    "    \n",
    "    categories = [item['category'] for item in metadata]\n",
    "    cat_count = {}\n",
    "    for cat in categories:\n",
    "        cat_count[cat] = cat_count.get(cat, 0) + 1\n",
    "    \n",
    "    print(\"  - 카테고리 분포:\")\n",
    "    for cat, count in cat_count.items():\n",
    "        print(f\"    * {cat}: {count}개\")\n",
    "    print()\n",
    "\n",
    "print(\"[OK] 주요 기능 테스트:\")\n",
    "print(\"  - Gemini API 임베딩 생성 완료\")\n",
    "print(\"  - 로컬 벡터 검색 완료\")\n",
    "print(\"  - 코사인 유사도 계산 완료\")\n",
    "print(\"  - 카테고리 필터링 완료\")\n",
    "print()\n",
    "\n",
    "print(\"[RESULT] 실습 결과:\")\n",
    "print(\"  - '애플 기술회사' 쿼리 -> 기술회사 텍스트가 상위 랭크\")\n",
    "print(\"  - '건강한 과일' 쿼리 -> 과일 텍스트가 상위 랭크\")\n",
    "print(\"  - Gemini API의 한국어 의미 이해 능력 우수\")\n",
    "print(\"  - 무료 로컬 벡터 검색으로 비용 절약\")\n",
    "print()\n",
    "\n",
    "print(\"[SUCCESS] 임베딩 미션 성공적으로 완료!\")"
   ]
  }
 ],
 "metadata": {
  "kernelspec": {
   "display_name": "Python 3",
   "language": "python",
   "name": "python3"
  },
  "language_info": {
   "codemirror_mode": {
    "name": "ipython",
    "version": 3
   },
   "file_extension": ".py",
   "mimetype": "text/x-python",
   "name": "python",
   "nbconvert_exporter": "python",
   "pygments_lexer": "ipython3",
   "version": "3.8.0"
  }
 },
 "nbformat": 4,
 "nbformat_minor": 4
}
