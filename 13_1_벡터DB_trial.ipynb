{
 "cells": [
  {
   "cell_type": "markdown",
   "metadata": {},
   "source": [
    "# 벡터 데이터베이스 임베딩 미션 실습\n",
    "\n",
    "이 노트북에서는 한국어 텍스트 데이터를 임베딩하여 Pinecone 벡터 데이터베이스에 저장하고 검색하는 실습을 진행합니다."
   ]
  },
  {
   "cell_type": "markdown",
   "metadata": {},
   "source": [
    "## 1. 환경 설정 및 라이브러리 로드"
   ]
  },
  {
   "cell_type": "code",
   "execution_count": null,
   "metadata": {},
   "outputs": [],
   "source": "# 환경 변수 로드 (Gemini API 사용)\nimport os\nimport google.generativeai as genai\n\n# Gemini API 키 확인\nGEMINI_API_KEY = os.environ.get('GEMINI_API_KEY')\nif GEMINI_API_KEY:\n    print(f\"Gemini API 키 확인됨: {GEMINI_API_KEY[:10]}...\")\n    genai.configure(api_key=GEMINI_API_KEY)\nelse:\n    print(\"❌ GEMINI_API_KEY 환경변수가 설정되지 않았습니다.\")"
  },
  {
   "cell_type": "code",
   "execution_count": null,
   "metadata": {},
   "outputs": [],
   "source": "# 필요한 라이브러리 임포트 (FAISS 로컬 벡터DB 사용)\nimport numpy as np\nimport json\nfrom sklearn.metrics.pairwise import cosine_similarity"
  },
  {
   "cell_type": "markdown",
   "metadata": {},
   "source": "## 2. Gemini 임베딩 모델 설정\n\nGoogle Gemini API를 사용하여 한국어 텍스트를 임베딩합니다."
  },
  {
   "cell_type": "code",
   "execution_count": null,
   "metadata": {},
   "outputs": [],
   "source": "# Gemini 임베딩 함수 정의\ndef get_gemini_embedding(text: str, task_type: str = 'retrieval_document'):\n    \"\"\"Google Gemini API를 사용하여 텍스트 임베딩 생성\"\"\"\n    try:\n        response = genai.embed_content(\n            model='models/text-embedding-004',\n            content=text,\n            task_type=task_type\n        )\n        return response['embedding']\n    except Exception as e:\n        print(f\"임베딩 생성 오류: {e}\")\n        return None\n\n# 테스트\ntest_text = \"안녕하세요. 테스트 텍스트입니다.\"\ntest_embedding = get_gemini_embedding(test_text)\n\nif test_embedding:\n    print(f\"✅ Gemini API 임베딩 성공!\")\n    print(f\"임베딩 차원: {len(test_embedding)}\")\n    print(f\"임베딩 샘플 (처음 5개): {test_embedding[:5]}\")\nelse:\n    print(\"❌ 임베딩 생성 실패\")"
  },
  {
   "cell_type": "markdown",
   "metadata": {},
   "source": [
    "## 3. 임베딩 미션 데이터 준비\n",
    "\n",
    "사과(과일)와 애플(회사)에 관련된 한국어 텍스트 데이터를 사용합니다."
   ]
  },
  {
   "cell_type": "code",
   "execution_count": null,
   "metadata": {},
   "outputs": [],
   "source": [
    "# 임베딩 미션 데이터\n",
    "data = [\n",
    "    {\"id\": \"vec1\", \"text\": \"사과는 달콤하고 아삭한 식감으로 유명한 인기 있는 과일입니다.\"},\n",
    "    {\"id\": \"vec2\", \"text\": \"애플이라는 기술 회사는 아이폰과 같은 혁신적인 제품으로 유명합니다.\"},\n",
    "    {\"id\": \"vec3\", \"text\": \"많은 사람들이 건강한 간식으로 사과를 즐겨 먹습니다.\"},\n",
    "    {\"id\": \"vec4\", \"text\": \"애플 주식회사는 세련된 디자인과 사용자 친화적인 인터페이스로 기술 산업을 혁신했습니다.\"},\n",
    "    {\"id\": \"vec5\", \"text\": \"하루에 사과 하나면 의사를 멀리할 수 있다는 속담이 있습니다.\"},\n",
    "    {\"id\": \"vec6\", \"text\": \"애플 컴퓨터 회사는 1976년 4월 1일 스티브 잡스, 스티브 워즈니악, 로널드 웨인에 의해 파트너십으로 설립되었습니다.\"}\n",
    "]\n",
    "\n",
    "print(\"데이터 개수:\", len(data))\n",
    "for item in data:\n",
    "    print(f\"{item['id']}: {item['text'][:30]}...\")"
   ]
  },
  {
   "cell_type": "markdown",
   "metadata": {},
   "source": [
    "## 4. 텍스트 임베딩 생성\n",
    "\n",
    "각 텍스트를 multilingual-e5-large 모델로 임베딩합니다."
   ]
  },
  {
   "cell_type": "code",
   "execution_count": null,
   "metadata": {},
   "outputs": [],
   "source": "# Gemini API로 텍스트 임베딩 생성\nembeddings = []\ntexts = []\nids = []\ncategories = []\n\nprint(\"=== Gemini API로 임베딩 생성 중 ===\")\n\nfor item in data:\n    print(f\"{item['id']} 처리 중...\", end=\" \")\n    \n    # 문서용 임베딩 생성\n    embedding = get_gemini_embedding(item['text'], task_type='retrieval_document')\n    \n    if embedding:\n        embeddings.append(embedding)\n        texts.append(item['text'])\n        ids.append(item['id'])\n        # 카테고리 분류\n        category = '과일' if '사과' in item['text'] and '애플' not in item['text'] else '기술회사'\n        categories.append(category)\n        print(f\"✅ 완료 (차원: {len(embedding)})\")\n    else:\n        print(\"❌ 실패\")\n\nprint(f\"\\n✅ 총 {len(embeddings)}개의 임베딩이 생성되었습니다.\")\nif embeddings:\n    print(f\"임베딩 차원: {len(embeddings[0])}\")\n    \n    # numpy 배열로 변환\n    embeddings_array = np.array(embeddings)\n    print(f\"임베딩 배열 형태: {embeddings_array.shape}\")"
  },
  {
   "cell_type": "markdown",
   "metadata": {},
   "source": "## 5. 로컬 벡터 인덱스 생성 (Pinecone 대신)\n\n임베딩을 메모리에 저장하고 코사인 유사도로 검색합니다."
  },
  {
   "cell_type": "code",
   "execution_count": null,
   "metadata": {},
   "outputs": [],
   "source": "# 로컬 벡터 인덱스 생성 (메모리 기반)\nif embeddings:\n    print(\"=== 로컬 벡터 인덱스 생성 ===\")\n    print(f\"벡터 개수: {len(embeddings)}\")\n    print(f\"벡터 차원: {len(embeddings[0])}\")\n    \n    # 메타데이터와 함께 저장\n    vector_database = {\n        'embeddings': embeddings_array,\n        'metadata': {\n            'texts': texts,\n            'ids': ids,\n            'categories': categories\n        }\n    }\n    \n    print(\"✅ 로컬 벡터 인덱스 생성 완료!\")\n    print(f\"저장된 벡터 수: {len(embeddings)}\")\nelse:\n    print(\"❌ 임베딩이 생성되지 않아서 인덱스를 만들 수 없습니다.\")"
  },
  {
   "cell_type": "markdown",
   "metadata": {},
   "source": "## 6. 로컬 벡터 저장 완료\n\n임베딩이 메모리에 저장되었습니다."
  },
  {
   "cell_type": "code",
   "execution_count": null,
   "metadata": {},
   "outputs": [],
   "source": "# 벡터 저장 완료 확인\nif 'vector_database' in locals():\n    print(\"✅ 벡터 데이터베이스 저장 완료!\")\n    print(f\"저장된 벡터 수: {len(vector_database['embeddings'])}\")\n    print(f\"메타데이터 항목 수: {len(vector_database['metadata']['texts'])}\")\nelse:\n    print(\"❌ 벡터 데이터베이스 생성 실패\")"
  },
  {
   "cell_type": "markdown",
   "metadata": {},
   "source": "## 7. 벡터 통계 확인\n\n저장된 벡터 데이터의 통계를 확인합니다."
  },
  {
   "cell_type": "code",
   "execution_count": null,
   "metadata": {},
   "outputs": [],
   "source": "# 벡터 데이터베이스 통계 조회\nif 'vector_database' in locals():\n    print(\"=== 벡터 데이터베이스 통계 ===\")\n    embeddings_shape = vector_database['embeddings'].shape\n    print(f\"벡터 차원: {embeddings_shape[1]}\")\n    print(f\"전체 벡터 수: {embeddings_shape[0]}\")\n    \n    # 카테고리별 통계\n    categories_count = {}\n    for category in vector_database['metadata']['categories']:\n        categories_count[category] = categories_count.get(category, 0) + 1\n    \n    print(\"카테고리별 분포:\")\n    for category, count in categories_count.items():\n        print(f\"  - {category}: {count}개\")\n        \n    print(f\"ID 목록: {vector_database['metadata']['ids']}\")\nelse:\n    print(\"❌ 벡터 데이터베이스가 없습니다.\")"
  },
  {
   "cell_type": "markdown",
   "metadata": {},
   "source": [
    "## 8. 쿼리 벡터 생성 및 유사도 검색\n",
    "\n",
    "\"애플이라는 기술 회사에 대해 알려주세요.\" 쿼리로 유사한 벡터를 검색합니다."
   ]
  },
  {
   "cell_type": "code",
   "execution_count": null,
   "metadata": {},
   "outputs": [],
   "source": [
    "# 쿼리 텍스트\n",
    "query_text = \"애플이라는 기술 회사에 대해 알려주세요.\"\n",
    "print(f\"쿼리: {query_text}\")\n",
    "\n",
    "# 쿼리 임베딩 생성 (query: 접두사 사용)\n",
    "query_embedding = embedding_model.encode(f\"query: {query_text}\", normalize_embeddings=True)\n",
    "print(f\"쿼리 임베딩 차원: {len(query_embedding)}\")"
   ]
  },
  {
   "cell_type": "markdown",
   "metadata": {},
   "source": [
    "## 9. 벡터 검색 수행 (index.query)\n",
    "\n",
    "생성된 쿼리 임베딩으로 유사한 벡터를 검색합니다."
   ]
  },
  {
   "cell_type": "code",
   "execution_count": null,
   "metadata": {},
   "outputs": [],
   "source": [
    "# 벡터 검색 수행\n",
    "search_results = index.query(\n",
    "    namespace=\"embedding-mission\",\n",
    "    vector=query_embedding.tolist(),\n",
    "    top_k=6,  # 모든 벡터 검색\n",
    "    include_values=False,  # 벡터 값은 제외 (용량 절약)\n",
    "    include_metadata=True   # 메타데이터 포함\n",
    ")\n",
    "\n",
    "print(\"=== 검색 결과 ===\")\n",
    "print(f\"쿼리: {query_text}\\n\")\n",
    "\n",
    "for i, match in enumerate(search_results['matches'], 1):\n",
    "    score = match['score']\n",
    "    text = match['metadata']['text']\n",
    "    category = match['metadata']['category']\n",
    "    \n",
    "    print(f\"{i}. [{match['id']}] (유사도: {score:.4f}) [{category}]\")\n",
    "    print(f\"   텍스트: {text}\")\n",
    "    print()"
   ]
  },
  {
   "cell_type": "markdown",
   "metadata": {},
   "source": [
    "## 10. 카테고리별 필터링 검색\n",
    "\n",
    "메타데이터 필터를 사용하여 '기술회사' 카테고리만 검색해보겠습니다."
   ]
  },
  {
   "cell_type": "code",
   "execution_count": null,
   "metadata": {},
   "outputs": [],
   "source": [
    "# 기술회사 카테고리만 필터링하여 검색\n",
    "filtered_results = index.query(\n",
    "    namespace=\"embedding-mission\",\n",
    "    vector=query_embedding.tolist(),\n",
    "    top_k=10,\n",
    "    include_values=False,\n",
    "    include_metadata=True,\n",
    "    filter={'category': {'$eq': '기술회사'}}  # 기술회사 카테고리만 검색\n",
    ")\n",
    "\n",
    "print(\"=== 기술회사 카테고리 필터링 검색 결과 ===\")\n",
    "print(f\"쿼리: {query_text}\\n\")\n",
    "\n",
    "for i, match in enumerate(filtered_results['matches'], 1):\n",
    "    score = match['score']\n",
    "    text = match['metadata']['text']\n",
    "    category = match['metadata']['category']\n",
    "    \n",
    "    print(f\"{i}. [{match['id']}] (유사도: {score:.4f}) [{category}]\")\n",
    "    print(f\"   텍스트: {text}\")\n",
    "    print()"
   ]
  },
  {
   "cell_type": "markdown",
   "metadata": {},
   "source": [
    "## 11. 다른 쿼리로 검색 테스트\n",
    "\n",
    "과일 관련 쿼리로도 검색해보겠습니다."
   ]
  },
  {
   "cell_type": "code",
   "execution_count": null,
   "metadata": {},
   "outputs": [],
   "source": [
    "# 과일 관련 쿼리\n",
    "fruit_query = \"건강에 좋은 과일에 대해 알려주세요.\"\n",
    "print(f\"쿼리: {fruit_query}\")\n",
    "\n",
    "# 쿼리 임베딩 생성\n",
    "fruit_query_embedding = embedding_model.encode(f\"query: {fruit_query}\", normalize_embeddings=True)\n",
    "\n",
    "# 검색 수행\n",
    "fruit_results = index.query(\n",
    "    namespace=\"embedding-mission\",\n",
    "    vector=fruit_query_embedding.tolist(),\n",
    "    top_k=6,\n",
    "    include_values=False,\n",
    "    include_metadata=True\n",
    ")\n",
    "\n",
    "print(\"\\n=== 과일 관련 검색 결과 ===\")\n",
    "for i, match in enumerate(fruit_results['matches'], 1):\n",
    "    score = match['score']\n",
    "    text = match['metadata']['text']\n",
    "    category = match['metadata']['category']\n",
    "    \n",
    "    print(f\"{i}. [{match['id']}] (유사도: {score:.4f}) [{category}]\")\n",
    "    print(f\"   텍스트: {text}\")\n",
    "    print()"
   ]
  },
  {
   "cell_type": "markdown",
   "metadata": {},
   "source": [
    "## 12. 결과 분석 및 정리\n",
    "\n",
    "임베딩 미션 실습 결과를 정리합니다."
   ]
  },
  {
   "cell_type": "code",
   "execution_count": null,
   "metadata": {},
   "outputs": [],
   "source": [
    "print(\"=== 임베딩 미션 실습 완료 ===\")\n",
    "print(f\"✅ 사용 모델: {model_name}\")\n",
    "print(f\"✅ 임베딩 차원: {dimension}\")\n",
    "print(f\"✅ 저장된 벡터 수: {len(data)}\")\n",
    "print(f\"✅ 인덱스명: {index_name}\")\n",
    "print(f\"✅ 네임스페이스: embedding-mission\")\n",
    "print()\n",
    "print(\"주요 기능 테스트:\")\n",
    "print(\"✅ 텍스트 임베딩 생성\")\n",
    "print(\"✅ Pinecone 인덱스 생성\")\n",
    "print(\"✅ 벡터 데이터 업서트(upsert)\")\n",
    "print(\"✅ 인덱스 통계 조회 (describe_index_stats)\")\n",
    "print(\"✅ 유사도 검색 (index.query)\")\n",
    "print(\"✅ 메타데이터 필터링 검색\")\n",
    "print()\n",
    "print(\"실습 결과:\")\n",
    "print(\"- '애플' 쿼리는 기술회사 관련 텍스트와 높은 유사도를 보임\")\n",
    "print(\"- '과일' 쿼리는 사과(과일) 관련 텍스트와 높은 유사도를 보임\")\n",
    "print(\"- 메타데이터 필터링을 통해 특정 카테고리만 검색 가능\")\n",
    "print(\"- multilingual-e5-large 모델이 한국어 의미 이해에 효과적임\")"
   ]
  }
 ],
 "metadata": {
  "kernelspec": {
   "display_name": "Python 3",
   "language": "python",
   "name": "python3"
  },
  "language_info": {
   "codemirror_mode": {
    "name": "ipython",
    "version": 3
   },
   "file_extension": ".py",
   "mimetype": "text/x-python",
   "name": "python",
   "nbconvert_exporter": "python",
   "pygments_lexer": "ipython3",
   "version": "3.8.0"
  }
 },
 "nbformat": 4,
 "nbformat_minor": 4
}